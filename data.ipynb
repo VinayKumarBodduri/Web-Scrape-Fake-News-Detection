{
 "cells": [
  {
   "cell_type": "code",
   "execution_count": 1,
   "id": "82569774-6647-4d68-b529-0834a618eb70",
   "metadata": {},
   "outputs": [],
   "source": [
    "import requests\n",
    "from bs4 import BeautifulSoup\n",
    "import pandas as pd\n",
    "import mysql.connector"
   ]
  },
  {
   "cell_type": "code",
   "execution_count": 56,
   "id": "e1f56a0b-bb49-4df5-872b-4506dc79e894",
   "metadata": {},
   "outputs": [],
   "source": [
    "db = mysql.connector.connect(database=\"fakenewsdata\",user=\"root\",host=\"localhost\",password=\"vinay@2906\")"
   ]
  },
  {
   "cell_type": "code",
   "execution_count": 57,
   "id": "6b91c6d5-8f0f-45b7-b042-1be8e4572409",
   "metadata": {},
   "outputs": [],
   "source": [
    "cursor = db.cursor()"
   ]
  },
  {
   "cell_type": "code",
   "execution_count": 70,
   "id": "cef773d7-e034-4e2b-85e8-e9cee8a9bd7d",
   "metadata": {},
   "outputs": [],
   "source": [
    "source = []\n",
    "title = []\n",
    "author = []\n",
    "date = []\n",
    "meter = []\n",
    "\n",
    "for j in range(1,2):\n",
    "    url = \"https://www.politifact.com/factchecks/list/?page=\"+str(j)\n",
    "    response = requests.get(url)\n",
    "    soup = BeautifulSoup(response.content,\"html.parser\")\n",
    "    data = soup.find_all('article',{\"class\":\"m-statement\"})\n",
    "    for i in data:\n",
    "        source_name = i.find('a',{\"class\":\"m-statement__name\"}).text.strip()\n",
    "        source.append(source_name)\n",
    "        title_name = i.find('div',{\"class\":\"m-statement__quote\"}).text.strip()\n",
    "        title.append(title_name)\n",
    "        post_details = i.find('footer',{\"class\":\"m-statement__footer\"}).text.strip()\n",
    "        details = post_details.split(\"•\")\n",
    "        authors = details[0].replace(\"By\",\"\")\n",
    "        author.append(authors)\n",
    "        date.append(details[1])\n",
    "        meters = i.find('div', attrs={'class':'m-statement__meter'}).find('div', attrs={'class':'c-image'}).find('img').get('alt')\n",
    "        meter.append(meters)\n",
    "   "
   ]
  },
  {
   "cell_type": "code",
   "execution_count": null,
   "id": "1488468e-2ba6-4067-8759-8dd343f9b990",
   "metadata": {},
   "outputs": [],
   "source": [
    "Data = pd.DataFrame(columns=['source','title','author','date','meter'])\n",
    "\n",
    "Data[\"source\"] = source\n",
    "Data[\"title\"] = title\n",
    "Data[\"author\"] = author\n",
    "Data[\"date\"] = date\n",
    "Data[\"meter\"] = meter"
   ]
  },
  {
   "cell_type": "code",
   "execution_count": 55,
   "id": "19db1b6b-4126-443d-895f-bc4498c6c1dd",
   "metadata": {},
   "outputs": [],
   "source": [
    "cursor.execute(sql)"
   ]
  },
  {
   "cell_type": "code",
   "execution_count": 50,
   "id": "62f0caae-f7f5-49da-861e-c3df6c38ee25",
   "metadata": {},
   "outputs": [],
   "source": [
    "db.commit()\n",
    "cursor.close()\n",
    "db.close()"
   ]
  },
  {
   "cell_type": "code",
   "execution_count": null,
   "id": "7b56020f-9454-454c-b4c7-10821bcff979",
   "metadata": {},
   "outputs": [],
   "source": []
  }
 ],
 "metadata": {
  "kernelspec": {
   "display_name": "Python 3 (ipykernel)",
   "language": "python",
   "name": "python3"
  },
  "language_info": {
   "codemirror_mode": {
    "name": "ipython",
    "version": 3
   },
   "file_extension": ".py",
   "mimetype": "text/x-python",
   "name": "python",
   "nbconvert_exporter": "python",
   "pygments_lexer": "ipython3",
   "version": "3.10.4"
  }
 },
 "nbformat": 4,
 "nbformat_minor": 5
}
