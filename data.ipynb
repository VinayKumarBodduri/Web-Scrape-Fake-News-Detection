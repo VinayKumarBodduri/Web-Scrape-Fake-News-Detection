{
 "cells": [
  {
   "cell_type": "code",
   "execution_count": null,
   "id": "0267172a-a406-4db1-957d-c63536fd60b4",
   "metadata": {},
   "outputs": [],
   "source": [
    "import requests\n",
    "from bs4 import BeautifulSoup\n",
    "import pandas as pd"
   ]
  },
  {
   "cell_type": "code",
   "execution_count": null,
   "id": "5cce373e-1290-4cdb-9153-5f2633182333",
   "metadata": {},
   "outputs": [],
   "source": [
    "source = []\n",
    "title = []\n",
    "author = []\n",
    "date = []\n",
    "meter = []\n",
    "for j in range(1,709):\n",
    "    url = \"https://www.politifact.com/factchecks/list/?page=\"+str(j)\n",
    "    response = requests.get(url)\n",
    "    soup = BeautifulSoup(response.content,\"html.parser\")\n",
    "    data = soup.find_all('article',{\"class\":\"m-statement\"})\n",
    "    for i in data:\n",
    "        source_name = i.find('a',{\"class\":\"m-statement__name\"}).text.strip()\n",
    "        source.append(source_name)\n",
    "        title_name = i.find('div',{\"class\":\"m-statement__quote\"}).text.strip()\n",
    "        title.append(title_name)\n",
    "        post_details = i.find('footer',{\"class\":\"m-statement__footer\"}).text.strip()\n",
    "        details = post_details.split(\"•\")\n",
    "        authors = details[0].replace(\"By\",\"\")\n",
    "        author.append(authors)\n",
    "        date.append(details[1])\n",
    "        meters = i.find('div', attrs={'class':'m-statement__meter'}).find('div', attrs={'class':'c-image'}).find('img').get('alt')\n",
    "        meter.append(meters)"
   ]
  },
  {
   "cell_type": "code",
   "execution_count": null,
   "id": "03f7b12c-8f4f-4cda-8401-3617c5e451b3",
   "metadata": {},
   "outputs": [],
   "source": [
    "Data = pd.DataFrame(columns=['source','title','author','date','meter'])\n",
    "\n",
    "Data[\"source\"] = source\n",
    "Data[\"title\"] = title\n",
    "Data[\"author\"] = author\n",
    "Data[\"date\"] = date\n",
    "Data[\"meter\"] = meter"
   ]
  },
  {
   "cell_type": "code",
   "execution_count": null,
   "id": "22e9cd5b-f068-42f9-8371-11bcc4e1f362",
   "metadata": {},
   "outputs": [],
   "source": [
    "Data.to_csv(\"FakeNews.csv\")"
   ]
  }
 ],
 "metadata": {
  "kernelspec": {
   "display_name": "Python 3 (ipykernel)",
   "language": "python",
   "name": "python3"
  },
  "language_info": {
   "codemirror_mode": {
    "name": "ipython",
    "version": 3
   },
   "file_extension": ".py",
   "mimetype": "text/x-python",
   "name": "python",
   "nbconvert_exporter": "python",
   "pygments_lexer": "ipython3",
   "version": "3.10.4"
  }
 },
 "nbformat": 4,
 "nbformat_minor": 5
}
